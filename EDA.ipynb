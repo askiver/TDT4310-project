{
 "cells": [
  {
   "metadata": {},
   "cell_type": "markdown",
   "source": "### Need to perform data analysis on the dataset, check review lengths etc.",
   "id": "f7d1acee6bc31683"
  },
  {
   "cell_type": "code",
   "id": "initial_id",
   "metadata": {
    "collapsed": true,
    "ExecuteTime": {
     "end_time": "2024-04-08T23:31:04.023243Z",
     "start_time": "2024-04-08T23:30:14.189716Z"
    }
   },
   "source": [
    "import os\n",
    "\n",
    "def load_movie_reviews(folder):\n",
    "    reviews = []\n",
    "    for filename in os.listdir(folder):\n",
    "        filepath = f'{folder}/{filename}'\n",
    "        with open(filepath, 'r', encoding='utf-8') as file:\n",
    "            review = file.read()\n",
    "            reviews.append(review)\n",
    "    return reviews\n",
    "\n",
    "def remove_breaks(reviews):\n",
    "    return [review.replace('<br /><br />', '') for review in reviews]\n",
    "\n",
    "positive_reviews = load_movie_reviews('data/train/pos')\n",
    "negative_reviews = load_movie_reviews('data/train/neg')\n",
    "\n",
    "positive_reviews = remove_breaks(positive_reviews)\n",
    "negative_reviews = remove_breaks(negative_reviews)\n",
    "\n",
    "# Only use the first 3000 reviews from both\n",
    "positive_reviews = positive_reviews\n",
    "negative_reviews = negative_reviews\n",
    "\n",
    "print(len(positive_reviews))\n",
    "print(len(negative_reviews))\n",
    "\n",
    "print(positive_reviews[1])"
   ],
   "outputs": [
    {
     "name": "stdout",
     "output_type": "stream",
     "text": [
      "12500\n",
      "12500\n",
      "Homelessness (or Houselessness as George Carlin stated) has been an issue for years but never a plan to help those on the street that were once considered human who did everything from going to school, work, or vote for the matter. Most people think of the homeless as just a lost cause while worrying about things such as racism, the war on Iraq, pressuring kids to succeed, technology, the elections, inflation, or worrying if they'll be next to end up on the streets.But what if you were given a bet to live on the streets for a month without the luxuries you once had from a home, the entertainment sets, a bathroom, pictures on the wall, a computer, and everything you once treasure to see what it's like to be homeless? That is Goddard Bolt's lesson.Mel Brooks (who directs) who stars as Bolt plays a rich man who has everything in the world until deciding to make a bet with a sissy rival (Jeffery Tambor) to see if he can live in the streets for thirty days without the luxuries; if Bolt succeeds, he can do what he wants with a future project of making more buildings. The bet's on where Bolt is thrown on the street with a bracelet on his leg to monitor his every move where he can't step off the sidewalk. He's given the nickname Pepto by a vagrant after it's written on his forehead where Bolt meets other characters including a woman by the name of Molly (Lesley Ann Warren) an ex-dancer who got divorce before losing her home, and her pals Sailor (Howard Morris) and Fumes (Teddy Wilson) who are already used to the streets. They're survivors. Bolt isn't. He's not used to reaching mutual agreements like he once did when being rich where it's fight or flight, kill or be killed.While the love connection between Molly and Bolt wasn't necessary to plot, I found \"Life Stinks\" to be one of Mel Brooks' observant films where prior to being a comedy, it shows a tender side compared to his slapstick work such as Blazing Saddles, Young Frankenstein, or Spaceballs for the matter, to show what it's like having something valuable before losing it the next day or on the other hand making a stupid bet like all rich people do when they don't know what to do with their money. Maybe they should give it to the homeless instead of using it like Monopoly money.Or maybe this film will inspire you to help others.\n"
     ]
    }
   ],
   "execution_count": 56
  },
  {
   "metadata": {},
   "cell_type": "markdown",
   "source": "",
   "id": "4a03ce15800de5d3"
  },
  {
   "metadata": {},
   "cell_type": "markdown",
   "source": "## Use spacy to Tokenize the reviews",
   "id": "e31c3ba85ea4128"
  },
  {
   "metadata": {
    "ExecuteTime": {
     "end_time": "2024-04-08T23:39:37.240185Z",
     "start_time": "2024-04-08T23:31:04.024247Z"
    }
   },
   "cell_type": "code",
   "source": [
    "import spacy\n",
    "from tqdm.notebook import tqdm\n",
    "\n",
    "def tokenize_reviews(reviews):\n",
    "    nlp = spacy.load('en_core_web_lg') # , disable=['parser', 'tagger', 'ner']\n",
    "    tokenized_reviews = []\n",
    "    word_embeddings = []\n",
    "    \n",
    "    # Use nlp.pipe for efficient batch processing\n",
    "    for doc in tqdm(nlp.pipe(reviews), total=len(reviews)):\n",
    "        tokens = [token.text for token in doc if not token.is_stop]\n",
    "        tokenized_reviews.append(tokens)\n",
    "        word_embedding = [token.vector for token in doc if not token.is_stop]\n",
    "        word_embeddings.append(word_embedding)\n",
    "        \n",
    "        \n",
    "    return tokenized_reviews, word_embeddings\n",
    "\n",
    "positive_tokenized, positive_vectors = tokenize_reviews(positive_reviews)\n",
    "negative_tokenized, negative_vectors = tokenize_reviews(negative_reviews)"
   ],
   "id": "b9e59bb5f8cfdd07",
   "outputs": [
    {
     "data": {
      "text/plain": [
       "  0%|          | 0/12500 [00:00<?, ?it/s]"
      ],
      "application/vnd.jupyter.widget-view+json": {
       "version_major": 2,
       "version_minor": 0,
       "model_id": "98bebda8256f4f21b9f342a422e66247"
      }
     },
     "metadata": {},
     "output_type": "display_data"
    },
    {
     "data": {
      "text/plain": [
       "  0%|          | 0/12500 [00:00<?, ?it/s]"
      ],
      "application/vnd.jupyter.widget-view+json": {
       "version_major": 2,
       "version_minor": 0,
       "model_id": "515d81376f614dcfa7b990f80b0d5a99"
      }
     },
     "metadata": {},
     "output_type": "display_data"
    }
   ],
   "execution_count": 57
  },
  {
   "metadata": {
    "ExecuteTime": {
     "end_time": "2024-04-08T23:39:37.243809Z",
     "start_time": "2024-04-08T23:39:37.241191Z"
    }
   },
   "cell_type": "code",
   "source": "print(positive_tokenized[1])",
   "id": "97b75e85296b28fa",
   "outputs": [
    {
     "name": "stdout",
     "output_type": "stream",
     "text": [
      "['Homelessness', '(', 'Houselessness', 'George', 'Carlin', 'stated', ')', 'issue', 'years', 'plan', 'help', 'street', 'considered', 'human', 'going', 'school', ',', 'work', ',', 'vote', 'matter', '.', 'people', 'think', 'homeless', 'lost', 'cause', 'worrying', 'things', 'racism', ',', 'war', 'Iraq', ',', 'pressuring', 'kids', 'succeed', ',', 'technology', ',', 'elections', ',', 'inflation', ',', 'worrying', 'end', 'streets', '.', 'given', 'bet', 'live', 'streets', 'month', 'luxuries', 'home', ',', 'entertainment', 'sets', ',', 'bathroom', ',', 'pictures', 'wall', ',', 'computer', ',', 'treasure', 'like', 'homeless', '?', 'Goddard', 'Bolt', 'lesson', '.', 'Mel', 'Brooks', '(', 'directs', ')', 'stars', 'Bolt', 'plays', 'rich', 'man', 'world', 'deciding', 'bet', 'sissy', 'rival', '(', 'Jeffery', 'Tambor', ')', 'live', 'streets', 'thirty', 'days', 'luxuries', ';', 'Bolt', 'succeeds', ',', 'wants', 'future', 'project', 'making', 'buildings', '.', 'bet', 'Bolt', 'thrown', 'street', 'bracelet', 'leg', 'monitor', 'step', 'sidewalk', '.', 'given', 'nickname', 'Pepto', 'vagrant', 'written', 'forehead', 'Bolt', 'meets', 'characters', 'including', 'woman', 'Molly', '(', 'Lesley', 'Ann', 'Warren', ')', 'ex', '-', 'dancer', 'got', 'divorce', 'losing', 'home', ',', 'pals', 'Sailor', '(', 'Howard', 'Morris', ')', 'Fumes', '(', 'Teddy', 'Wilson', ')', 'streets', '.', 'survivors', '.', 'Bolt', '.', 'reaching', 'mutual', 'agreements', 'like', 'rich', 'fight', 'flight', ',', 'kill', 'killed', '.', 'love', 'connection', 'Molly', 'Bolt', 'necessary', 'plot', ',', 'found', '\"', 'Life', 'Stinks', '\"', 'Mel', 'Brooks', \"'\", 'observant', 'films', 'prior', 'comedy', ',', 'shows', 'tender', 'compared', 'slapstick', 'work', 'Blazing', 'Saddles', ',', 'Young', 'Frankenstein', ',', 'Spaceballs', 'matter', ',', 'like', 'having', 'valuable', 'losing', 'day', 'hand', 'making', 'stupid', 'bet', 'like', 'rich', 'people', 'know', 'money', '.', 'Maybe', 'homeless', 'instead', 'like', 'Monopoly', 'money', '.', 'maybe', 'film', 'inspire', 'help', '.']\n"
     ]
    }
   ],
   "execution_count": 58
  },
  {
   "metadata": {},
   "cell_type": "markdown",
   "source": "### Find some statistics about the reviews",
   "id": "9f7a6922839c7add"
  },
  {
   "metadata": {
    "ExecuteTime": {
     "end_time": "2024-04-08T23:39:37.756074Z",
     "start_time": "2024-04-08T23:39:37.244844Z"
    }
   },
   "cell_type": "code",
   "source": [
    "from collections import Counter\n",
    "import numpy as np\n",
    "\n",
    "def get_review_stats(tokenized_reviews):\n",
    "    review_lengths = [len(review) for review in tokenized_reviews]\n",
    "    print('Min review length:', min(review_lengths))\n",
    "    print('Max review length:', max(review_lengths))\n",
    "    print('Mean review length:', sum(review_lengths) / len(review_lengths))\n",
    "    print('Median review length:', sorted(review_lengths)[len(review_lengths) // 2])\n",
    "    print('Standard deviation:', np.std(review_lengths))\n",
    "    print()\n",
    "\n",
    "# Find the most common words\n",
    "def get_most_common_words(tokenized_reviews):\n",
    "    all_words = [word for review in tokenized_reviews for word in review]\n",
    "    word_counts = Counter(all_words)\n",
    "    print('Number of unique words:', len(word_counts))\n",
    "    print('Most common words:', word_counts.most_common(30))\n",
    "    print()\n",
    "\n",
    "get_review_stats(positive_tokenized)\n",
    "get_review_stats(negative_tokenized)\n",
    "\n",
    "\n",
    "get_most_common_words(positive_tokenized)\n",
    "get_most_common_words(negative_tokenized)\n",
    "\n"
   ],
   "id": "73c6bf83795cf12",
   "outputs": [
    {
     "name": "stdout",
     "output_type": "stream",
     "text": [
      "Min review length: 7\n",
      "Max review length: 1556\n",
      "Mean review length: 141.39816\n",
      "Median review length: 103\n",
      "Standard deviation: 111.08520310380857\n",
      "\n",
      "Min review length: 5\n",
      "Max review length: 927\n",
      "Mean review length: 136.0208\n",
      "Median review length: 102\n",
      "Standard deviation: 101.02098260935695\n",
      "\n",
      "Number of unique words: 76007\n",
      "Most common words: [(',', 143760), ('.', 135608), ('\"', 30418), ('-', 25917), ('film', 20571), ('movie', 18714), ('(', 17382), (')', 16970), ('!', 10643), (\"'\", 8698), ('like', 8585), ('good', 7317), ('story', 6497), ('time', 6322), ('great', 5891), (':', 4420), ('?', 4351), ('people', 4224), ('love', 3961), ('...', 3942), ('way', 3933), ('life', 3932), ('best', 3897), ('films', 3727), ('think', 3582), (';', 3516), ('characters', 3495), ('character', 3476), ('movies', 3470), ('seen', 3369)]\n",
      "\n",
      "Number of unique words: 75658\n",
      "Most common words: [('.', 135849), (',', 131620), ('\"', 33000), ('-', 27692), ('movie', 24409), ('film', 18925), ('(', 15737), (')', 15638), ('!', 11367), ('like', 10850), ('?', 10476), (\"'\", 8207), ('good', 7123), ('bad', 6976), ('time', 6022), ('...', 5743), ('story', 5024), (':', 4865), ('people', 4536), ('plot', 4023), ('movies', 3936), ('acting', 3913), ('way', 3824), ('think', 3549), ('characters', 3524), ('character', 3462), ('watch', 3283), ('better', 3273), ('*', 3263), ('know', 3256)]\n",
      "\n"
     ]
    }
   ],
   "execution_count": 59
  },
  {
   "metadata": {},
   "cell_type": "markdown",
   "source": "### Generate word embeddings",
   "id": "d08a022870f6ee1b"
  },
  {
   "metadata": {
    "ExecuteTime": {
     "end_time": "2024-04-08T23:39:37.759704Z",
     "start_time": "2024-04-08T23:39:37.757079Z"
    }
   },
   "cell_type": "code",
   "source": [
    "print(len(positive_vectors[0]))\n",
    "print(len(positive_tokenized[0]))"
   ],
   "id": "870074f17e65d0f9",
   "outputs": [
    {
     "name": "stdout",
     "output_type": "stream",
     "text": [
      "89\n",
      "89\n"
     ]
    }
   ],
   "execution_count": 60
  }
 ],
 "metadata": {
  "kernelspec": {
   "display_name": "Python 3",
   "language": "python",
   "name": "python3"
  },
  "language_info": {
   "codemirror_mode": {
    "name": "ipython",
    "version": 2
   },
   "file_extension": ".py",
   "mimetype": "text/x-python",
   "name": "python",
   "nbconvert_exporter": "python",
   "pygments_lexer": "ipython2",
   "version": "2.7.6"
  }
 },
 "nbformat": 4,
 "nbformat_minor": 5
}
