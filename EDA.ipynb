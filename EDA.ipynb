{
 "cells": [
  {
   "metadata": {},
   "cell_type": "markdown",
   "source": "### Need to perform data analysis on the dataset, check review lengths etc.",
   "id": "f7d1acee6bc31683"
  },
  {
   "cell_type": "code",
   "id": "initial_id",
   "metadata": {
    "collapsed": true,
    "ExecuteTime": {
     "end_time": "2024-04-19T03:43:19.099623Z",
     "start_time": "2024-04-19T03:43:16.534512Z"
    }
   },
   "source": [
    "import os\n",
    "\n",
    "def load_movie_reviews(folder):\n",
    "    reviews = []\n",
    "    for filename in os.listdir(folder):\n",
    "        filepath = f'{folder}/{filename}'\n",
    "        with open(filepath, 'r', encoding='utf-8') as file:\n",
    "            review = file.read()\n",
    "            reviews.append(review)\n",
    "    return reviews\n",
    "\n",
    "def remove_breaks(reviews):\n",
    "    return [review.replace('<br /><br />', '') for review in reviews]\n",
    "\n",
    "positive_reviews = load_movie_reviews('data/train/pos')\n",
    "negative_reviews = load_movie_reviews('data/train/neg')\n",
    "\n",
    "positive_reviews = remove_breaks(positive_reviews)\n",
    "negative_reviews = remove_breaks(negative_reviews)\n",
    "\n",
    "# Only use the first 3000 reviews from both\n",
    "positive_reviews = positive_reviews\n",
    "negative_reviews = negative_reviews\n",
    "\n",
    "print(len(positive_reviews))\n",
    "print(len(negative_reviews))\n",
    "\n",
    "print(positive_reviews[1])"
   ],
   "outputs": [
    {
     "name": "stdout",
     "output_type": "stream",
     "text": [
      "12500\n",
      "12500\n",
      "Homelessness (or Houselessness as George Carlin stated) has been an issue for years but never a plan to help those on the street that were once considered human who did everything from going to school, work, or vote for the matter. Most people think of the homeless as just a lost cause while worrying about things such as racism, the war on Iraq, pressuring kids to succeed, technology, the elections, inflation, or worrying if they'll be next to end up on the streets.But what if you were given a bet to live on the streets for a month without the luxuries you once had from a home, the entertainment sets, a bathroom, pictures on the wall, a computer, and everything you once treasure to see what it's like to be homeless? That is Goddard Bolt's lesson.Mel Brooks (who directs) who stars as Bolt plays a rich man who has everything in the world until deciding to make a bet with a sissy rival (Jeffery Tambor) to see if he can live in the streets for thirty days without the luxuries; if Bolt succeeds, he can do what he wants with a future project of making more buildings. The bet's on where Bolt is thrown on the street with a bracelet on his leg to monitor his every move where he can't step off the sidewalk. He's given the nickname Pepto by a vagrant after it's written on his forehead where Bolt meets other characters including a woman by the name of Molly (Lesley Ann Warren) an ex-dancer who got divorce before losing her home, and her pals Sailor (Howard Morris) and Fumes (Teddy Wilson) who are already used to the streets. They're survivors. Bolt isn't. He's not used to reaching mutual agreements like he once did when being rich where it's fight or flight, kill or be killed.While the love connection between Molly and Bolt wasn't necessary to plot, I found \"Life Stinks\" to be one of Mel Brooks' observant films where prior to being a comedy, it shows a tender side compared to his slapstick work such as Blazing Saddles, Young Frankenstein, or Spaceballs for the matter, to show what it's like having something valuable before losing it the next day or on the other hand making a stupid bet like all rich people do when they don't know what to do with their money. Maybe they should give it to the homeless instead of using it like Monopoly money.Or maybe this film will inspire you to help others.\n"
     ]
    }
   ],
   "execution_count": 8
  },
  {
   "metadata": {},
   "cell_type": "markdown",
   "source": "",
   "id": "4a03ce15800de5d3"
  },
  {
   "metadata": {},
   "cell_type": "markdown",
   "source": "## Use spacy to Tokenize the reviews",
   "id": "e31c3ba85ea4128"
  },
  {
   "metadata": {
    "ExecuteTime": {
     "end_time": "2024-04-19T03:51:55.002426Z",
     "start_time": "2024-04-19T03:43:19.100627Z"
    }
   },
   "cell_type": "code",
   "source": [
    "import spacy\n",
    "from tqdm.notebook import tqdm\n",
    "\n",
    "def tokenize_reviews(reviews):\n",
    "    nlp = spacy.load('en_core_web_lg') # , disable=['parser', 'tagger', 'ner']\n",
    "    tokenized_reviews = []\n",
    "    word_embeddings = []\n",
    "    \n",
    "    # Use nlp.pipe for efficient batch processing\n",
    "    for doc in tqdm(nlp.pipe(reviews), total=len(reviews)):\n",
    "        tokens = [token.text for token in doc]\n",
    "        tokenized_reviews.append(tokens)\n",
    "        word_embedding = [token.vector for token in doc]\n",
    "        word_embeddings.append(word_embedding)\n",
    "        \n",
    "        \n",
    "    return tokenized_reviews, word_embeddings\n",
    "\n",
    "positive_tokenized, positive_vectors = tokenize_reviews(positive_reviews)\n",
    "negative_tokenized, negative_vectors = tokenize_reviews(negative_reviews)"
   ],
   "id": "b9e59bb5f8cfdd07",
   "outputs": [
    {
     "data": {
      "text/plain": [
       "  0%|          | 0/12500 [00:00<?, ?it/s]"
      ],
      "application/vnd.jupyter.widget-view+json": {
       "version_major": 2,
       "version_minor": 0,
       "model_id": "ee1b8b2156c0448a8b1b36465107fd2c"
      }
     },
     "metadata": {},
     "output_type": "display_data"
    },
    {
     "data": {
      "text/plain": [
       "  0%|          | 0/12500 [00:00<?, ?it/s]"
      ],
      "application/vnd.jupyter.widget-view+json": {
       "version_major": 2,
       "version_minor": 0,
       "model_id": "c05ea6c37ee94d7fb135434d76bc0a4c"
      }
     },
     "metadata": {},
     "output_type": "display_data"
    }
   ],
   "execution_count": 9
  },
  {
   "metadata": {
    "ExecuteTime": {
     "end_time": "2024-04-19T03:51:55.006610Z",
     "start_time": "2024-04-19T03:51:55.003432Z"
    }
   },
   "cell_type": "code",
   "source": "print(positive_tokenized[1])",
   "id": "97b75e85296b28fa",
   "outputs": [
    {
     "name": "stdout",
     "output_type": "stream",
     "text": [
      "['Homelessness', '(', 'or', 'Houselessness', 'as', 'George', 'Carlin', 'stated', ')', 'has', 'been', 'an', 'issue', 'for', 'years', 'but', 'never', 'a', 'plan', 'to', 'help', 'those', 'on', 'the', 'street', 'that', 'were', 'once', 'considered', 'human', 'who', 'did', 'everything', 'from', 'going', 'to', 'school', ',', 'work', ',', 'or', 'vote', 'for', 'the', 'matter', '.', 'Most', 'people', 'think', 'of', 'the', 'homeless', 'as', 'just', 'a', 'lost', 'cause', 'while', 'worrying', 'about', 'things', 'such', 'as', 'racism', ',', 'the', 'war', 'on', 'Iraq', ',', 'pressuring', 'kids', 'to', 'succeed', ',', 'technology', ',', 'the', 'elections', ',', 'inflation', ',', 'or', 'worrying', 'if', 'they', \"'ll\", 'be', 'next', 'to', 'end', 'up', 'on', 'the', 'streets', '.', 'But', 'what', 'if', 'you', 'were', 'given', 'a', 'bet', 'to', 'live', 'on', 'the', 'streets', 'for', 'a', 'month', 'without', 'the', 'luxuries', 'you', 'once', 'had', 'from', 'a', 'home', ',', 'the', 'entertainment', 'sets', ',', 'a', 'bathroom', ',', 'pictures', 'on', 'the', 'wall', ',', 'a', 'computer', ',', 'and', 'everything', 'you', 'once', 'treasure', 'to', 'see', 'what', 'it', \"'s\", 'like', 'to', 'be', 'homeless', '?', 'That', 'is', 'Goddard', 'Bolt', \"'s\", 'lesson', '.', 'Mel', 'Brooks', '(', 'who', 'directs', ')', 'who', 'stars', 'as', 'Bolt', 'plays', 'a', 'rich', 'man', 'who', 'has', 'everything', 'in', 'the', 'world', 'until', 'deciding', 'to', 'make', 'a', 'bet', 'with', 'a', 'sissy', 'rival', '(', 'Jeffery', 'Tambor', ')', 'to', 'see', 'if', 'he', 'can', 'live', 'in', 'the', 'streets', 'for', 'thirty', 'days', 'without', 'the', 'luxuries', ';', 'if', 'Bolt', 'succeeds', ',', 'he', 'can', 'do', 'what', 'he', 'wants', 'with', 'a', 'future', 'project', 'of', 'making', 'more', 'buildings', '.', 'The', 'bet', \"'s\", 'on', 'where', 'Bolt', 'is', 'thrown', 'on', 'the', 'street', 'with', 'a', 'bracelet', 'on', 'his', 'leg', 'to', 'monitor', 'his', 'every', 'move', 'where', 'he', 'ca', \"n't\", 'step', 'off', 'the', 'sidewalk', '.', 'He', \"'s\", 'given', 'the', 'nickname', 'Pepto', 'by', 'a', 'vagrant', 'after', 'it', \"'s\", 'written', 'on', 'his', 'forehead', 'where', 'Bolt', 'meets', 'other', 'characters', 'including', 'a', 'woman', 'by', 'the', 'name', 'of', 'Molly', '(', 'Lesley', 'Ann', 'Warren', ')', 'an', 'ex', '-', 'dancer', 'who', 'got', 'divorce', 'before', 'losing', 'her', 'home', ',', 'and', 'her', 'pals', 'Sailor', '(', 'Howard', 'Morris', ')', 'and', 'Fumes', '(', 'Teddy', 'Wilson', ')', 'who', 'are', 'already', 'used', 'to', 'the', 'streets', '.', 'They', \"'re\", 'survivors', '.', 'Bolt', 'is', \"n't\", '.', 'He', \"'s\", 'not', 'used', 'to', 'reaching', 'mutual', 'agreements', 'like', 'he', 'once', 'did', 'when', 'being', 'rich', 'where', 'it', \"'s\", 'fight', 'or', 'flight', ',', 'kill', 'or', 'be', 'killed', '.', 'While', 'the', 'love', 'connection', 'between', 'Molly', 'and', 'Bolt', 'was', \"n't\", 'necessary', 'to', 'plot', ',', 'I', 'found', '\"', 'Life', 'Stinks', '\"', 'to', 'be', 'one', 'of', 'Mel', 'Brooks', \"'\", 'observant', 'films', 'where', 'prior', 'to', 'being', 'a', 'comedy', ',', 'it', 'shows', 'a', 'tender', 'side', 'compared', 'to', 'his', 'slapstick', 'work', 'such', 'as', 'Blazing', 'Saddles', ',', 'Young', 'Frankenstein', ',', 'or', 'Spaceballs', 'for', 'the', 'matter', ',', 'to', 'show', 'what', 'it', \"'s\", 'like', 'having', 'something', 'valuable', 'before', 'losing', 'it', 'the', 'next', 'day', 'or', 'on', 'the', 'other', 'hand', 'making', 'a', 'stupid', 'bet', 'like', 'all', 'rich', 'people', 'do', 'when', 'they', 'do', \"n't\", 'know', 'what', 'to', 'do', 'with', 'their', 'money', '.', 'Maybe', 'they', 'should', 'give', 'it', 'to', 'the', 'homeless', 'instead', 'of', 'using', 'it', 'like', 'Monopoly', 'money', '.', 'Or', 'maybe', 'this', 'film', 'will', 'inspire', 'you', 'to', 'help', 'others', '.']\n"
     ]
    }
   ],
   "execution_count": 10
  },
  {
   "metadata": {},
   "cell_type": "markdown",
   "source": "### Find some statistics about the reviews",
   "id": "9f7a6922839c7add"
  },
  {
   "metadata": {
    "ExecuteTime": {
     "end_time": "2024-04-19T03:51:55.947895Z",
     "start_time": "2024-04-19T03:51:55.007615Z"
    }
   },
   "cell_type": "code",
   "source": [
    "from collections import Counter\n",
    "import numpy as np\n",
    "\n",
    "def get_review_stats(tokenized_reviews):\n",
    "    review_lengths = [len(review) for review in tokenized_reviews]\n",
    "    print('Min review length:', min(review_lengths))\n",
    "    print('Max review length:', max(review_lengths))\n",
    "    print('Mean review length:', sum(review_lengths) / len(review_lengths))\n",
    "    print('Median review length:', sorted(review_lengths)[len(review_lengths) // 2])\n",
    "    print('Standard deviation:', np.std(review_lengths))\n",
    "    # Find number of reviews with length more than 200\n",
    "    print('Number of reviews with length more than 200:', len([length for length in review_lengths if length > 200]))\n",
    "    print()\n",
    "\n",
    "# Find the most common words\n",
    "def get_most_common_words(tokenized_reviews):\n",
    "    all_words = [word for review in tokenized_reviews for word in review]\n",
    "    word_counts = Counter(all_words)\n",
    "    print('Number of unique words:', len(word_counts))\n",
    "    print('Most common words:', word_counts.most_common(30))\n",
    "    print()\n",
    "\n",
    "get_review_stats(positive_tokenized)\n",
    "get_review_stats(negative_tokenized)\n",
    "\n",
    "\n",
    "get_most_common_words(positive_tokenized)\n",
    "get_most_common_words(negative_tokenized)\n",
    "\n"
   ],
   "id": "73c6bf83795cf12",
   "outputs": [
    {
     "name": "stdout",
     "output_type": "stream",
     "text": [
      "Min review length: 14\n",
      "Max review length: 2754\n",
      "Mean review length: 273.51024\n",
      "Median review length: 201\n",
      "Standard deviation: 208.647168145514\n",
      "Number of reviews with length more than 200: 6272\n",
      "\n",
      "Min review length: 11\n",
      "Max review length: 1778\n",
      "Mean review length: 268.05648\n",
      "Median review length: 202\n",
      "Standard deviation: 193.8392344444478\n",
      "Number of reviews with length more than 200: 6330\n",
      "\n",
      "Number of unique words: 76828\n",
      "Most common words: [('the', 149838), (',', 143760), ('.', 135608), ('and', 86206), ('a', 80023), ('of', 75863), ('to', 65909), ('is', 57986), ('in', 46934), ('it', 38151), ('I', 37525), ('that', 34461), (\"'s\", 32022), ('\"', 30418), ('this', 27277), ('-', 25917), ('as', 24457), ('was', 22595), ('with', 22538), ('The', 22092), ('for', 21399), ('film', 20571), ('movie', 18714), ('(', 17382), ('but', 17038), (')', 16970), ('on', 16412), ('his', 16317), ('are', 15014), ('you', 14914)]\n",
      "\n",
      "Number of unique words: 76500\n",
      "Most common words: [('the', 140017), ('.', 135849), (',', 131620), ('a', 76243), ('and', 70278), ('of', 68213), ('to', 68016), ('is', 51224), ('I', 43272), ('in', 40810), ('it', 39191), ('that', 36039), ('this', 33375), ('\"', 33000), (\"'s\", 29911), ('-', 27692), ('was', 27490), ('movie', 24409), ('The', 21978), ('for', 20753), ('with', 20326), (\"n't\", 19610), ('as', 19054), ('film', 18925), ('but', 18015), ('on', 16636), ('you', 15743), ('(', 15737), (')', 15638), ('have', 15353)]\n",
      "\n"
     ]
    }
   ],
   "execution_count": 11
  },
  {
   "metadata": {},
   "cell_type": "markdown",
   "source": "### Generate word embeddings",
   "id": "d08a022870f6ee1b"
  },
  {
   "metadata": {
    "ExecuteTime": {
     "end_time": "2024-04-19T03:51:55.951845Z",
     "start_time": "2024-04-19T03:51:55.948901Z"
    }
   },
   "cell_type": "code",
   "source": [
    "print(len(positive_vectors[0]))\n",
    "print(len(positive_tokenized[0]))"
   ],
   "id": "870074f17e65d0f9",
   "outputs": [
    {
     "name": "stdout",
     "output_type": "stream",
     "text": [
      "165\n",
      "165\n"
     ]
    }
   ],
   "execution_count": 12
  },
  {
   "metadata": {},
   "cell_type": "markdown",
   "source": "## Check score distribution",
   "id": "cec9951137ed3ad0"
  },
  {
   "metadata": {
    "ExecuteTime": {
     "end_time": "2024-04-19T03:51:56.381358Z",
     "start_time": "2024-04-19T03:51:55.952850Z"
    }
   },
   "cell_type": "code",
   "source": [
    "from utils import load_combined_reviews\n",
    "import numpy as np\n",
    "from collections import Counter\n",
    "import matplotlib.pyplot as plt\n",
    "\n",
    "pos_train, pos_train_scores = load_combined_reviews('train', 'pos')\n",
    "neg_train, neg_train_scores = load_combined_reviews('train', 'neg')\n",
    "pos_test, pos_test_scores = load_combined_reviews('test', 'pos')\n",
    "neg_test, neg_test_scores = load_combined_reviews('test', 'neg')\n",
    "\n",
    "train_scores = np.concatenate([pos_train_scores, neg_train_scores])\n",
    "test_scores = np.concatenate([pos_test_scores, neg_test_scores])\n",
    "\n",
    "train_score_counts = Counter(train_scores)\n",
    "test_score_counts = Counter(test_scores)\n",
    "\n",
    "# Check how many of the reviews are in the endpoints\n",
    "print('endpoint count', train_score_counts[1] + train_score_counts[8])\n",
    "print('endpoint percentage', (train_score_counts[1] + train_score_counts[8]) / len(train_scores) * 100)\n",
    "\n",
    "# Display the score distribution in a bar plot\n",
    "def plot_score_distribution(score_counts, title):\n",
    "    plt.bar(score_counts.keys(), score_counts.values())\n",
    "    plt.title(title)\n",
    "    plt.xlabel('Score')\n",
    "    plt.ylabel('Count')\n",
    "    plt.show()\n",
    "    \n",
    "\n",
    "print(train_score_counts)\n",
    "print(test_score_counts)\n",
    "\n",
    "plot_score_distribution(train_score_counts, 'Train Score Distribution')\n",
    "plot_score_distribution(test_score_counts, 'Test Score Distribution')\n",
    "\n",
    "\n"
   ],
   "id": "98c4164ae280c0fc",
   "outputs": [
    {
     "name": "stdout",
     "output_type": "stream",
     "text": [
      "endpoint count 9832\n",
      "endpoint percentage 39.328\n",
      "Counter({1: 5100, 8: 4732, 6: 3009, 4: 2696, 5: 2496, 3: 2420, 2: 2284, 7: 2263})\n",
      "Counter({1: 5022, 8: 4999, 6: 2850, 4: 2635, 3: 2541, 7: 2344, 5: 2307, 2: 2302})\n"
     ]
    },
    {
     "data": {
      "text/plain": [
       "<Figure size 640x480 with 1 Axes>"
      ],
      "image/png": "[encoded data removed]"
     },
     "metadata": {},
     "output_type": "display_data"
    },
    {
     "data": {
      "text/plain": [
       "<Figure size 640x480 with 1 Axes>"
      ],
      "image/png": "[encoded data removed]"
     },
     "metadata": {},
     "output_type": "display_data"
    }
   ],
   "execution_count": 13
  },
  {
   "metadata": {
    "ExecuteTime": {
     "end_time": "2024-04-19T03:51:56.495031Z",
     "start_time": "2024-04-19T03:51:56.382364Z"
    }
   },
   "cell_type": "code",
   "source": [
    "test_scores = test_scores[10000:15000]\n",
    "\n",
    "test_score_counts = Counter(test_scores)\n",
    "\n",
    "plot_score_distribution(test_score_counts, 'Test Score Distribution')"
   ],
   "id": "b85814c46f74ba8a",
   "outputs": [
    {
     "data": {
      "text/plain": [
       "<Figure size 640x480 with 1 Axes>"
      ],
      "image/png": "[encoded data removed]"
     },
     "metadata": {},
     "output_type": "display_data"
    }
   ],
   "execution_count": 14
  }
 ],
 "metadata": {
  "kernelspec": {
   "display_name": "Python 3",
   "language": "python",
   "name": "python3"
  },
  "language_info": {
   "codemirror_mode": {
    "name": "ipython",
    "version": 2
   },
   "file_extension": ".py",
   "mimetype": "text/x-python",
   "name": "python",
   "nbconvert_exporter": "python",
   "pygments_lexer": "ipython2",
   "version": "2.7.6"
  }
 },
 "nbformat": 4,
 "nbformat_minor": 5
}
